{
 "cells": [
  {
   "cell_type": "markdown",
   "source": [
    "### Статистика по собранным данным:\n",
    "- количество публикаций об упоминании университета,\n",
    "- количество публикующих контент пользователей,\n",
    "- количество лайков / просмотров / комментариев / репостов,\n",
    "- график количество публикаций в день за собираемый период"
   ],
   "metadata": {
    "collapsed": false,
    "pycharm": {
     "name": "#%% md\n"
    }
   }
  },
  {
   "cell_type": "code",
   "execution_count": 1,
   "outputs": [],
   "source": [
    "import matplotlib.pyplot as plt\n",
    "import pandas as pd\n",
    "import psycopg2\n",
    "import yaml"
   ],
   "metadata": {
    "collapsed": false,
    "pycharm": {
     "name": "#%%\n"
    }
   }
  },
  {
   "cell_type": "code",
   "execution_count": 2,
   "metadata": {
    "collapsed": true,
    "pycharm": {
     "name": "#%%\n"
    }
   },
   "outputs": [],
   "source": [
    "with open(\"config.yaml\", \"r\", encoding=\"utf-8\") as f:\n",
    "    cfg = yaml.load(f, Loader=yaml.FullLoader)\n",
    "\n",
    "conn = psycopg2.connect(\n",
    "    host=cfg[\"db\"][\"host\"],\n",
    "    database=cfg[\"db\"][\"db_name\"],\n",
    "    user=cfg[\"db\"][\"user_name\"],\n",
    "    password=cfg[\"db\"][\"password\"]\n",
    ")\n",
    "db = conn.cursor()\n",
    "db.execute(\"SELECT post_group_id, post_id, group_id, publisher_id, date_unix, text, comments, likes, reposts, views, crawler_name FROM post\\n\")\n",
    "posts = db.fetchall()\n",
    "conn.close()"
   ]
  },
  {
   "cell_type": "code",
   "execution_count": 3,
   "outputs": [],
   "source": [
    "data = pd.DataFrame(data=posts, columns=[\"id\", \"post_id\", \"group_id\", \"publisher_id\", \"date_unix\", \"text\", \"comments\", \"likes\", \"reports\", \"views\", \"crawler_name\"]).drop(columns=[\"id\"])\n",
    "data[\"date\"] = data[\"date_unix\"].apply(pd.Timestamp.fromtimestamp)"
   ],
   "metadata": {
    "collapsed": false,
    "pycharm": {
     "name": "#%%\n"
    }
   }
  },
  {
   "cell_type": "code",
   "execution_count": 4,
   "outputs": [
    {
     "name": "stdout",
     "output_type": "stream",
     "text": [
      "Count of post with university mention\n"
     ]
    },
    {
     "data": {
      "text/plain": "msu     211506\nspbu     72833\nName: crawler_name, dtype: int64"
     },
     "execution_count": 4,
     "metadata": {},
     "output_type": "execute_result"
    }
   ],
   "source": [
    "print(\"Count of post with university mention\")\n",
    "data[\"crawler_name\"].value_counts()"
   ],
   "metadata": {
    "collapsed": false,
    "pycharm": {
     "name": "#%%\n"
    }
   }
  },
  {
   "cell_type": "code",
   "execution_count": 5,
   "outputs": [
    {
     "name": "stdout",
     "output_type": "stream",
     "text": [
      "Count of publishing content users per university\n"
     ]
    },
    {
     "data": {
      "text/plain": "crawler_name\nmsu     30338\nspbu     5867\nName: publisher_id, dtype: int64"
     },
     "execution_count": 5,
     "metadata": {},
     "output_type": "execute_result"
    }
   ],
   "source": [
    "print(\"Count of publishing content users per university\")\n",
    "(data[data[\"publisher_id\"] > 0].groupby(\"crawler_name\")[\"publisher_id\"].unique().apply(len))"
   ],
   "metadata": {
    "collapsed": false,
    "pycharm": {
     "name": "#%%\n"
    }
   }
  },
  {
   "cell_type": "code",
   "execution_count": 6,
   "outputs": [
    {
     "name": "stdout",
     "output_type": "stream",
     "text": [
      "Count of likes, reposts, comments, views per university\n"
     ]
    },
    {
     "data": {
      "text/plain": "                likes  reports  comments        views\ncrawler_name                                         \nmsu           6035346  1583140    476244  437019738.0\nspbu          1373774   545680    117276  112995320.0",
      "text/html": "<div>\n<style scoped>\n    .dataframe tbody tr th:only-of-type {\n        vertical-align: middle;\n    }\n\n    .dataframe tbody tr th {\n        vertical-align: top;\n    }\n\n    .dataframe thead th {\n        text-align: right;\n    }\n</style>\n<table border=\"1\" class=\"dataframe\">\n  <thead>\n    <tr style=\"text-align: right;\">\n      <th></th>\n      <th>likes</th>\n      <th>reports</th>\n      <th>comments</th>\n      <th>views</th>\n    </tr>\n    <tr>\n      <th>crawler_name</th>\n      <th></th>\n      <th></th>\n      <th></th>\n      <th></th>\n    </tr>\n  </thead>\n  <tbody>\n    <tr>\n      <th>msu</th>\n      <td>6035346</td>\n      <td>1583140</td>\n      <td>476244</td>\n      <td>437019738.0</td>\n    </tr>\n    <tr>\n      <th>spbu</th>\n      <td>1373774</td>\n      <td>545680</td>\n      <td>117276</td>\n      <td>112995320.0</td>\n    </tr>\n  </tbody>\n</table>\n</div>"
     },
     "execution_count": 6,
     "metadata": {},
     "output_type": "execute_result"
    }
   ],
   "source": [
    "print(\"Count of likes, reposts, comments, views per university\")\n",
    "data.groupby(\"crawler_name\")[[\"likes\", \"reports\", \"comments\", \"views\"]].sum()"
   ],
   "metadata": {
    "collapsed": false,
    "pycharm": {
     "name": "#%%\n"
    }
   }
  },
  {
   "cell_type": "code",
   "execution_count": 7,
   "outputs": [
    {
     "data": {
      "text/plain": "<Figure size 1000x300 with 1 Axes>",
      "image/png": "[encoded data removed]"
     },
     "metadata": {},
     "output_type": "display_data"
    }
   ],
   "source": [
    "plt.figure(figsize=(10, 3))\n",
    "for crawler_name in \"msu\", \"spbu\":\n",
    "    plt.title(f\"Count of posts per day for universities\")\n",
    "    counts = data[data[\"crawler_name\"] == crawler_name].groupby(data[\"date\"].apply(lambda x: x.date()))[\"post_id\"].count()\n",
    "    plt.bar(counts.index, counts.values, label=crawler_name, alpha=0.9)\n",
    "    plt.xlabel(\"Date\")\n",
    "    plt.ylabel(\"Count of posts\")\n",
    "plt.legend()\n",
    "plt.show()"
   ],
   "metadata": {
    "collapsed": false,
    "pycharm": {
     "name": "#%%\n"
    }
   }
  },
  {
   "cell_type": "code",
   "execution_count": 8,
   "outputs": [],
   "source": [
    "data.to_csv(\"posts.csv\", index=True)"
   ],
   "metadata": {
    "collapsed": false,
    "pycharm": {
     "name": "#%%\n"
    }
   }
  },
  {
   "cell_type": "code",
   "execution_count": null,
   "outputs": [],
   "source": [],
   "metadata": {
    "collapsed": false,
    "pycharm": {
     "name": "#%%\n"
    }
   }
  }
 ],
 "metadata": {
  "kernelspec": {
   "display_name": "Python 3",
   "language": "python",
   "name": "python3"
  },
  "language_info": {
   "codemirror_mode": {
    "name": "ipython",
    "version": 2
   },
   "file_extension": ".py",
   "mimetype": "text/x-python",
   "name": "python",
   "nbconvert_exporter": "python",
   "pygments_lexer": "ipython2",
   "version": "2.7.6"
  }
 },
 "nbformat": 4,
 "nbformat_minor": 0
}